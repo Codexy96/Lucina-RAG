{
 "cells": [
  {
   "cell_type": "code",
   "execution_count": 12,
   "metadata": {},
   "outputs": [],
   "source": [
    "import pandas as pd\n",
    "table1=pd.read_csv('RAG_1.csv')\n",
    "table2=pd.read_csv('RAG_2.csv')\n"
   ]
  },
  {
   "cell_type": "code",
   "execution_count": 8,
   "metadata": {},
   "outputs": [
    {
     "name": "stdout",
     "output_type": "stream",
     "text": [
      "比较结果已保存到 '比较结果2.xlsx'\n"
     ]
    }
   ],
   "source": [
    "import pandas as pd\n",
    "\n",
    "data1 = pd.read_csv('RAG_1.csv',encoding=\"gbk\")  # 第一个文件\n",
    "data2 = pd.read_csv('RAG_2_with_no_web.csv')  # 第二个文件\n",
    "\n",
    "# 创建新的数据框\n",
    "new_data = pd.DataFrame()\n",
    "\n",
    "fields_of_interest = ['user_input', 'response', 'context_recall', 'context_entity_recall', 'llm_context_precision_with_reference']\n",
    "\n",
    "# 添加共同字段\n",
    "for field in fields_of_interest:\n",
    "    new_data[field + '_表1'] = data1[field]\n",
    "    new_data[field + '_表2'] = data2[field]\n",
    "\n",
    "# 生成比较结果，假设得分字段以 'context_recall' 结尾，表示得分字段（可根据需要调整）\n",
    "for field in ['context_recall', 'context_entity_recall', 'llm_context_precision_with_reference']:\n",
    "    new_data[f'{field}_比较'] = new_data.apply(lambda row: '表1高' if row[f'{field}_表1'] > row[f'{field}_表2'] \n",
    "                                                 else ('表2高' if row[f'{field}_表1'] < row[f'{field}_表2'] else '相等'), axis=1)\n",
    "\n",
    "# 保存结果到新的Excel文件\n",
    "new_data.to_excel('比较结果2.xlsx', index=False)\n",
    "\n",
    "print(\"比较结果已保存到 '比较结果2.xlsx'\")\n"
   ]
  },
  {
   "cell_type": "code",
   "execution_count": null,
   "metadata": {},
   "outputs": [
    {
     "name": "stdout",
     "output_type": "stream",
     "text": [
      "比较结果已保存到 '比较结果.xlsx'\n"
     ]
    }
   ],
   "source": [
    "\n"
   ]
  }
 ],
 "metadata": {
  "kernelspec": {
   "display_name": "Python 3",
   "language": "python",
   "name": "python3"
  },
  "language_info": {
   "codemirror_mode": {
    "name": "ipython",
    "version": 3
   },
   "file_extension": ".py",
   "mimetype": "text/x-python",
   "name": "python",
   "nbconvert_exporter": "python",
   "pygments_lexer": "ipython3",
   "version": "3.9.20"
  }
 },
 "nbformat": 4,
 "nbformat_minor": 2
}
