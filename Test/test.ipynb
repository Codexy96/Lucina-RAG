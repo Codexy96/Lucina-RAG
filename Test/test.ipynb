{
 "cells": [
  {
   "cell_type": "code",
   "execution_count": 5,
   "metadata": {},
   "outputs": [
    {
     "name": "stdout",
     "output_type": "stream",
     "text": [
      "字节跳动是一家中国知名的互联网科技公司，成立于2012年，总部位于北京。该公司以技术创新为核心，专注于移动互联网和人工智能领域，致力于为用户提供优质的内容和服务。\n",
      "\n",
      "以下是关于字节跳动的一些详细信息：\n",
      "\n",
      "1. 业务领域：字节跳动主要业务涵盖新闻资讯、短视频、社交、教育等多个领域。其中，最受欢迎的产品有今日头条、抖音（国际版TikTok）、西瓜视频、懂车帝、皮皮虾等。\n",
      "\n",
      "2. 技术优势：字节跳动在人工智能、推荐算法、大数据处理等方面拥有深厚的技术积累。公司自主研发的“今日头条推荐引擎”是全球领先的个性化推荐系统之一。\n",
      "\n",
      "3. 成长历程：字节跳动自成立以来，发展迅速，用户规模持续扩大。2017年，公司成功跻身全球独角兽企业行列。2021年，字节跳动市值一度达到1.2万亿美元，成为全球最有价值科技股之一。\n",
      "\n",
      "4. 国际化战略：字节跳动积极拓展海外市场，其产品TikTok在多个国家和地区取得了显著成绩，成为全球最受欢迎的短视频平台之一。\n",
      "\n",
      "5. 社会责任：字节跳动注重社会责任，积极参与公益事业。公司成立了“字节跳动公益基金会”，致力于支持教育、扶贫、环境保护等领域的项目。\n",
      "\n",
      "6. 组织架构：字节跳动采用扁平化管理模式，鼓励创新和团队合作。公司内部设有多个业务部门，如字节跳动国际、字节跳动教育、字节跳动游戏等。\n",
      "\n",
      "7. 发展前景：随着互联网技术的不断进步，字节跳动将继续拓展业务领域，提升用户体验，致力于成为全球领先的科技创新企业。\n",
      "\n",
      "总之，字节跳动是一家具有强大实力和广阔发展前景的互联网科技公司，在移动互联网和人工智能领域具有举足轻重的地位。"
     ]
    }
   ],
   "source": [
    "#LLM，大模型生成模块测试\n",
    "import sys\n",
    "sys.path.append('e:\\RAG框架\\第一期')\n",
    "from LLM.LLM import zhipuAI\n",
    "content=''\n",
    "for i in zhipuAI(\n",
    "    [{\n",
    "        'role':'user','content':'请讲述一下字节跳动这个公司'\n",
    "    }]):\n",
    "    print(i,end='')"
   ]
  },
  {
   "cell_type": "code",
   "execution_count": 4,
   "metadata": {},
   "outputs": [],
   "source": [
    "import torch\n",
    "from transformers import AutoModelForSequenceClassification, AutoTokenizer\n",
    "import time\n",
    "\n",
    "device = torch.device('cuda' if torch.cuda.is_available() else 'cpu')\n",
    "tokenizer = AutoTokenizer.from_pretrained('BAAI/bge-reranker-large')"
   ]
  },
  {
   "cell_type": "code",
   "execution_count": 5,
   "metadata": {},
   "outputs": [],
   "source": [
    "pairs = [['what is panda?', 'hi'], ['what is panda?', 'The giant panda (Ailuropoda melanoleuca), sometimes called a panda bear or simply panda, is a bear species endemic to China.']]\n",
    "with torch.no_grad():\n",
    "    inputs = tokenizer(pairs, padding=True, truncation=True, return_tensors='pt', max_length=512)"
   ]
  },
  {
   "cell_type": "code",
   "execution_count": null,
   "metadata": {},
   "outputs": [
    {
     "name": "stdout",
     "output_type": "stream",
     "text": [
      "{'input_ids': tensor([[     0,   2367,     83,      6,  85407,     32,      2,      2,   1274,\n",
      "              2,      1,      1,      1,      1,      1,      1,      1,      1,\n",
      "              1,      1,      1,      1,      1,      1,      1,      1,      1,\n",
      "              1,      1,      1,      1,      1,      1,      1,      1,      1,\n",
      "              1,      1,      1,      1,      1,      1,      1],\n",
      "        [     0,   2367,     83,      6,  85407,     32,      2,      2,    581,\n",
      "           6051,     18,      6,  85407,     15,    284,  12175,  28437,  19165,\n",
      "          54159,  16836,  29808,    247,  68018,  35839,     10,      6,  85407,\n",
      "          81148,    707,  42856,      6,  85407,      4,     83,     10,  81148,\n",
      "         114149,  28117,  21068,     47,   9098,      5,      2]]), 'attention_mask': tensor([[1, 1, 1, 1, 1, 1, 1, 1, 1, 1, 0, 0, 0, 0, 0, 0, 0, 0, 0, 0, 0, 0, 0, 0,\n",
      "         0, 0, 0, 0, 0, 0, 0, 0, 0, 0, 0, 0, 0, 0, 0, 0, 0, 0, 0],\n",
      "        [1, 1, 1, 1, 1, 1, 1, 1, 1, 1, 1, 1, 1, 1, 1, 1, 1, 1, 1, 1, 1, 1, 1, 1,\n",
      "         1, 1, 1, 1, 1, 1, 1, 1, 1, 1, 1, 1, 1, 1, 1, 1, 1, 1, 1]])}\n"
     ]
    }
   ],
   "source": [
    "print(inputs['input_ids'])"
   ]
  },
  {
   "cell_type": "code",
   "execution_count": null,
   "metadata": {},
   "outputs": [],
   "source": [
    "#向量模型模块测试\n",
    "from Embedding.Embedding import zhipuAI_embedding\n",
    "zhipuAI_embedding(\"你好\") "
   ]
  },
  {
   "cell_type": "code",
   "execution_count": 9,
   "metadata": {},
   "outputs": [
    {
     "name": "stdout",
     "output_type": "stream",
     "text": [
      "[[{'id': 1318, 'hash': '2e015135e0f1f82747e40933944cbb6896289444c7b19481b39f0b3616158a24', 'content': '中华人民共和国森林法1984年9月20日第六届全国人民代表大会常务委员会第七次会议 1998年4月29日第九届全国人民代表大会常务委员会第二次会议修改中华人民共和国森林法决定第一次修正 2009年8月27日第十一届全国人民代表大会常务委员会第十次会议修改部分法律决定第二次修正目  录  第一章 总则  第二章 森林经营管理  第三章 森林保护  第四章 植树造林  第五章 森林采伐  第六章 法律责任  第七章 附则第一章 总则  第一条 保护培育合理利用森林资源，加快国土绿化，发挥森林蓄水保土调节气候改善环境提供林产品作用，适应社会主义建设人民生活需要，特制定本法  第二条 中华人民共和国领域内从事森林林木培育种植采伐利用森林林木林地经营管理活动，都必须遵守本法  第三条 森林资源属于国家所有，法律规定属于集体所有除外  国家所有集体所有森林林木林地，个人所有林木使用林地，县级以上地方人民政府登记造册，发放证书，确认所有权使用权国务院授权国务院林业主管部门，国务院确定国家所有重点林区森林林木林地登记造册，发放证书，通知地方人民政府  森林林木林地所有者使用者合法权益，受法律保护，单位个人不得侵犯', 'source': '中华人民共和国森林法', 'publish_time': datetime.datetime(2009, 8, 27, 0, 0), 'publish_unit': '全国人民代表大会常务委员会', 'category': '全国法', 'effective_time': datetime.datetime(2009, 8, 27, 0, 0)}, {'id': 1320, 'hash': '24d211476135fe08c3ceeacc8dc1f8e3b0ab694e859b3732be832b9e2697a5e6', 'content': '  五煤炭造纸部门，煤炭木浆纸张产品产量提取一定数额资金，专门用于营造坑木造纸用材林  六建立林业基金制度  国家设立森林生态效益补偿基金，用于提供生态效益防护林特种用途林森林资源林木营造抚育保护管理森林生态效益补偿基金必须专款专用，不得挪作他用具体办法国务院规定  第九条 国家省自治区人民政府，民族自治地方林业生产建设，国家民族自治地方自治权规定，森林开发木材分配林业基金使用方面，给予地区更自主权经济利益  第十条 国务院林业主管部门主管全国林业工作县级以上地方人民政府林业主管部门，主管地区林业工作乡级人民政府设专职兼职人员负责林业工作  第十一条 植树造林保护森林，公民应尽义务各级人民政府应当组织全民义务植树，开展植树造林活动  第十二条 植树造林保护森林森林管理林业科学研究方面成绩显著单位个人，各级人民政府给予奖励第二章 森林经营管理  第十三条 各级林业主管部门本法规定，森林资源保护利用更新，实行管理监督  第十四条 各级林业主管部门负责组织森林资源清查，建立资源档案制度，掌握资源变化情况  第十五条 下列森林林木林地使用权依法转让，依法作价入股合资合作造林经营林木出资合作条件，不得林地改为非林地', 'source': '中华人民共和国森林法', 'publish_time': datetime.datetime(2009, 8, 27, 0, 0), 'publish_unit': '全国人民代表大会常务委员会', 'category': '全国法', 'effective_time': datetime.datetime(2009, 8, 27, 0, 0)}, {'id': 1322, 'hash': '44a829c81d50d708cfe795944b6a18d750caccd1743af61577b8538dbf048e19', 'content': '  第十八条 进行勘查开采矿藏各项建设工程，应当不占少占林地必须占用征收征用林地，县级以上人民政府林业主管部门审核同意后，土地管理法律行政法规办理建设用地审批手续，用地单位国务院规定缴纳森林植被恢复费森林植被恢复费专款专用，林业主管部门规定统一安排植树造林，恢复森林植被，植树造林面积不得少于占用征收征用林地减少森林植被面积上级林业主管部门应当定期督促检查下级林业主管部门组织植树造林恢复森林植被情况  单位个人不得挪用森林植被恢复费县级以上人民政府审计机关应当加强森林植被恢复费使用情况监督第三章 森林保护  第十九条 地方各级人民政府应当组织部门建立护林组织，负责护林工作实际需要大面积林区增加护林设施，加强森林保护督促有林林区基层单位，订立护林公约，组织群众护林，划定护林责任区，配备专职兼职护林员  护林员县级乡级人民政府委任护林员主要职责巡护森林，制止破坏森林资源行为造成森林资源破坏，护林员有权要求当地部门处理  第二十条国家有关规定林区设立森林公安机关，负责维护辖区社会治安秩序，保护辖区内森林资源，本法规定，国务院林业主管部门授权范围内，代行本法第三十九条第四十二条第四十三条第四十四条规定行政处罚权', 'source': '中华人民共和国森林法', 'publish_time': datetime.datetime(2009, 8, 27, 0, 0), 'publish_unit': '全国人民代表大会常务委员会', 'category': '全国法', 'effective_time': datetime.datetime(2009, 8, 27, 0, 0)}, {'id': 1324, 'hash': '2d01531b7158248933ebb92e7dfb551aef679993ef30e656cf312ee1b850e655', 'content': '  自然保护区以外珍贵树木林区内具有特殊价值植物资源，应当认真保护未经省自治区直辖市林业主管部门批准，不得采伐采集  第二十五条 林区内列为国家保护野生动物，禁止猎捕特殊需要猎捕，国家有关法规办理第四章 植树造林  第二十六条 各级人民政府应当制定植树造林规划，因地制宜确定地区提高森林覆盖率奋斗目标  各级人民政府应当组织各行各业城乡居民完成植树造林规划确定任务  宜林荒山荒地，属于国家所有，林业主管部门主管部门组织造林属于集体所有，集体经济组织组织造林  铁路公路两旁江河两侧湖泊水库周围，主管单位因地制宜组织造林工矿区，机关学校用地，部队营区农场牧场渔场经营地区，各该单位负责造林  国家所有集体所有宜林荒山荒地集体个人承包造林  第二十七条 国有企业事业单位机关团体部队营造林木，营造单位经营国家规定支配林木收益  集体所有制单位营造林木，归该单位所有  农村居民房前屋后自留地自留山种植林木，个人所有城镇居民职工自有房屋庭院内种植林木，个人所有  集体个人承包国家所有集体所有宜林荒山荒地造林，承包后种植林木承包集体个人所有承包合同另有规定，承包合同规定执行', 'source': '中华人民共和国森林法', 'publish_time': datetime.datetime(2009, 8, 27, 0, 0), 'publish_unit': '全国人民代表大会常务委员会', 'category': '全国法', 'effective_time': datetime.datetime(2009, 8, 27, 0, 0)}, {'id': 2365, 'hash': '3901f9236e2d3e2b0d52f194f69e3b2d44b4e1f256a44e2363467a58cc0c54e0', 'content': '  第四十六条 本法第五条第二款中所称法律，指中华人民共和国森林法中华人民共和国草原法中华人民共和国水土保持法中华人民共和国土地管理法中华人民共和国环境保护法中华人民共和国气象法  第四十七条 本法2002年1月1日起施行', 'source': '中华人民共和国防沙治沙法', 'publish_time': datetime.datetime(2001, 8, 31, 0, 0), 'publish_unit': '全国人民代表大会常务委员会', 'category': '全国法', 'effective_time': datetime.datetime(2002, 1, 1, 0, 0)}]]\n"
     ]
    }
   ],
   "source": [
    "#向量搜索模块测试\n",
    "from Search.MilvusSearch import  search \n",
    "\n",
    "result=search(query=[\"中国植树造林的法律\"],doc_limit=5,slice_limit=5,threshold=0.4,final_return=10)\n",
    "print(result)"
   ]
  },
  {
   "cell_type": "code",
   "execution_count": null,
   "metadata": {},
   "outputs": [],
   "source": [
    "#全文搜索模块测试\n"
   ]
  },
  {
   "cell_type": "code",
   "execution_count": null,
   "metadata": {},
   "outputs": [],
   "source": []
  }
 ],
 "metadata": {
  "kernelspec": {
   "display_name": "Python 3",
   "language": "python",
   "name": "python3"
  },
  "language_info": {
   "codemirror_mode": {
    "name": "ipython",
    "version": 3
   },
   "file_extension": ".py",
   "mimetype": "text/x-python",
   "name": "python",
   "nbconvert_exporter": "python",
   "pygments_lexer": "ipython3",
   "version": "3.9.20"
  }
 },
 "nbformat": 4,
 "nbformat_minor": 2
}
